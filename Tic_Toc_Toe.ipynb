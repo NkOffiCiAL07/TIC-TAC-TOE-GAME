{
  "nbformat": 4,
  "nbformat_minor": 0,
  "metadata": {
    "colab": {
      "name": "Tic.Toc.Toe.ipynb",
      "provenance": [],
      "collapsed_sections": []
    },
    "kernelspec": {
      "name": "python3",
      "display_name": "Python 3"
    },
    "language_info": {
      "name": "python"
    }
  },
  "cells": [
    {
      "cell_type": "markdown",
      "metadata": {
        "id": "2ftGAMlPtyPs"
      },
      "source": [
        "##TIC TOC TOE GAME\n",
        "- by _Nishant Kumar"
      ]
    },
    {
      "cell_type": "markdown",
      "metadata": {
        "id": "fhW1AzPZvwev"
      },
      "source": [
        "####GAME RULE ---->\n",
        "- Below places you have to fill one by one, one who achieves same symbol in  row, column or diagonally of their type will be declared as a winner.\n",
        "- Symbol used for first is X and for second is O . \n",
        "\n"
      ]
    },
    {
      "cell_type": "code",
      "metadata": {
        "id": "d1gjKOOEnebY"
      },
      "source": [
        "board = [[\"_\",\"_\",\"_\"],\n",
        "         [\"_\",\"_\",\"_\"],\n",
        "         [\"_\",\"_\",\"_\"]]\n",
        "\n",
        "def place( x ):\n",
        "    if x == 1:\n",
        "        return 0, 0\n",
        "    if x == 2:\n",
        "        return 0, 1\n",
        "    if x == 3:\n",
        "        return 0, 2\n",
        "    if x == 4:\n",
        "        return 1, 0\n",
        "    if x == 5:\n",
        "        return 1, 1\n",
        "    if x == 6:\n",
        "        return 1, 2\n",
        "    if x == 7:\n",
        "        return 2, 0\n",
        "    if x == 8:\n",
        "        return 2, 1\n",
        "    if x == 9:\n",
        "        return 2, 2"
      ],
      "execution_count": null,
      "outputs": []
    },
    {
      "cell_type": "markdown",
      "metadata": {
        "id": "IjeUUmfjuu02"
      },
      "source": [
        "**This function checks after every move whether X wins or O wins.**"
      ]
    },
    {
      "cell_type": "code",
      "metadata": {
        "id": "ZJ7Mzxcztswh"
      },
      "source": [
        "def check_winner( board ):\n",
        "    board_transpose = [[board[j][i] for j in range(len(board))] for i in range(len(board[0]))]\n",
        "    if((board[0].count(\"X\") == 3) or (board[1].count(\"X\") == 3) or (board[2].count(\"X\") == 3) or (board_transpose[0].count(\"X\") == 3) or (board_transpose[1].count(\"X\") == 3) or (board_transpose[2].count(\"X\") == 3)):\n",
        "        return 1\n",
        "\n",
        "    if((board[0].count(\"O\") == 3) or (board[1].count(\"O\") == 3) or (board[2].count(\"O\") == 3) or (board_transpose[0].count(\"O\") == 3) or (board_transpose[1].count(\"O\") == 3) or (board_transpose[2].count(\"O\") == 3)):\n",
        "        return 2\n",
        "\n",
        "    diag1 = [board[0][0], board[1][1], board[2][2]]\n",
        "    diag2 = [board[2][0], board[1][1], board[0][2]]\n",
        "    if((diag1.count(\"X\") == 3) or (diag2.count(\"X\") == 3)):\n",
        "        return 1\n",
        "    if((diag1.count(\"O\") == 3) or (diag2.count(\"O\") == 3)):\n",
        "        return 2\n",
        "    return 0"
      ],
      "execution_count": null,
      "outputs": []
    },
    {
      "cell_type": "markdown",
      "metadata": {
        "id": "wbW8f1KuvDyP"
      },
      "source": [
        "**This function displays situation of board after every move.**"
      ]
    },
    {
      "cell_type": "code",
      "metadata": {
        "colab": {
          "base_uri": "https://localhost:8080/"
        },
        "id": "0jfzhwMatd1-",
        "outputId": "45af4533-c79f-4787-b56b-4e745304bf1e"
      },
      "source": [
        "def display_board():\n",
        "    print(board[0][0] + \"  \" + board[0][1] + \"  \" + board[0][2])\n",
        "    print()\n",
        "    print(board[1][0] + \"  \" + board[1][1] + \"  \" + board[1][2])\n",
        "    print()\n",
        "    print(board[2][0] + \"  \" + board[2][1] + \"  \" + board[2][2])\n",
        "\n",
        "print(\"Initial board Situation --->\")\n",
        "display_board()"
      ],
      "execution_count": null,
      "outputs": [
        {
          "output_type": "stream",
          "text": [
            "Initial board Situation --->\n",
            "_  _  _\n",
            "\n",
            "_  _  _\n",
            "\n",
            "_  _  _\n"
          ],
          "name": "stdout"
        }
      ]
    },
    {
      "cell_type": "markdown",
      "metadata": {
        "id": "BR5rUvaFvXXN"
      },
      "source": [
        "#Driver code"
      ]
    },
    {
      "cell_type": "code",
      "metadata": {
        "colab": {
          "base_uri": "https://localhost:8080/"
        },
        "id": "IdK6MU6hta5n",
        "outputId": "c8aadaa7-149f-4628-b776-56f384f9ed06"
      },
      "source": [
        "list_of_places = []\n",
        "i = 0\n",
        "while(i<9):\n",
        "    Input_place = int(input(\"First person turn-->(1 - 9)  : \"))\n",
        "    if Input_place in list_of_places:\n",
        "        print(\"Sorry wrong input, already filled. Try again !!!!!!\")\n",
        "        Input_place = int(input(\"Second person turn-->(1 - 9)  : \"))\n",
        "        list_of_places.append(Input_place)\n",
        "    i, j = place( Input_place )\n",
        "    board[i][j]= \"X\"\n",
        "    display_board()\n",
        "    list_of_places.append(Input_place)\n",
        "    if(len(list_of_places) <= 9):\n",
        "       if(check_winner(board) == 1):\n",
        "            print(\"X's turn are winner, Hope You Enjoyed This Game !!!!!!!\")\n",
        "            break\n",
        "       if(check_winner(board) == 2):\n",
        "            print(\"O's turn are winner, Hope You Enjoyed This Game !!!!!!!\")\n",
        "            break\n",
        "    if(len(list_of_places) == 9):\n",
        "        print(\"Game drawn, Hope You Enjoyed !!!!!!\")\n",
        "    Input_place = int(input(\"Second person turn-->(1 - 9)  : \"))\n",
        "    if Input_place in list_of_places:\n",
        "        print(\"Sorry wrong input, it's already filled. Try another !!!!!!\")\n",
        "        Input_place = int(input(\"Second person turn-->(1 - 9)  : \"))\n",
        "        list_of_places.append(Input_place)\n",
        "    list_of_places.append(Input_place)\n",
        "    i, j = place( Input_place )\n",
        "    board[i][j] = \"O\"\n",
        "    display_board()\n",
        "    if(len(list_of_places) <= 9):\n",
        "       if(check_winner(board) == 1):\n",
        "            print(\"X's turn are winner, Hope You Enjoyed This Game !!!!!!!\")\n",
        "            break\n",
        "       if(check_winner(board) == 2):\n",
        "            print(\"O's turn are winner, Hope You Enjoyed This Game !!!!!!!\")\n",
        "            break\n",
        "    \n",
        "    i += 1"
      ],
      "execution_count": null,
      "outputs": [
        {
          "output_type": "stream",
          "text": [
            "First person turn-->(1 - 9)  : 1\n",
            "X  _  _\n",
            "\n",
            "_  _  _\n",
            "\n",
            "_  _  _\n",
            "Second person turn-->(1 - 9)  : 5\n",
            "X  _  _\n",
            "\n",
            "_  O  _\n",
            "\n",
            "_  _  _\n",
            "First person turn-->(1 - 9)  : 2\n",
            "X  X  _\n",
            "\n",
            "_  O  _\n",
            "\n",
            "_  _  _\n",
            "Second person turn-->(1 - 9)  : 3\n",
            "X  X  O\n",
            "\n",
            "_  O  _\n",
            "\n",
            "_  _  _\n",
            "First person turn-->(1 - 9)  : 4\n",
            "X  X  O\n",
            "\n",
            "X  O  _\n",
            "\n",
            "_  _  _\n",
            "Second person turn-->(1 - 9)  : 7\n",
            "X  X  O\n",
            "\n",
            "X  O  _\n",
            "\n",
            "O  _  _\n",
            "O's turn are winner, Hope You Enjoyed This Game !!!!!!!\n"
          ],
          "name": "stdout"
        }
      ]
    },
    {
      "cell_type": "code",
      "metadata": {
        "colab": {
          "base_uri": "https://localhost:8080/",
          "height": 321
        },
        "id": "Z-VQy0zKo8g-",
        "outputId": "0df37b55-8525-4577-f7aa-f9b96027661a"
      },
      "source": [
        "!wget -nc https://raw.githubusercontent.com/brpy/colab-pdf/master/colab_pdf.py\n",
        "from colab_pdf import colab_pdf\n",
        "colab_pdf('Tic.Toc.Toe.ipynb')"
      ],
      "execution_count": null,
      "outputs": [
        {
          "output_type": "stream",
          "text": [
            "File ‘colab_pdf.py’ already there; not retrieving.\n",
            "\n",
            "\n",
            "WARNING: apt does not have a stable CLI interface. Use with caution in scripts.\n",
            "\n",
            "\n",
            "WARNING: apt does not have a stable CLI interface. Use with caution in scripts.\n",
            "\n",
            "Extracting templates from packages: 100%\n",
            "[NbConvertApp] Converting notebook /content/drive/MyDrive/Colab Notebooks/Tic.Toc.Toe.ipynb to pdf\n",
            "[NbConvertApp] Writing 35931 bytes to ./notebook.tex\n",
            "[NbConvertApp] Building PDF\n",
            "[NbConvertApp] Running xelatex 3 times: [u'xelatex', u'./notebook.tex', '-quiet']\n",
            "[NbConvertApp] Running bibtex 1 time: [u'bibtex', u'./notebook']\n",
            "[NbConvertApp] WARNING | bibtex had problems, most likely because there were no citations\n",
            "[NbConvertApp] PDF successfully created\n",
            "[NbConvertApp] Writing 31398 bytes to /content/drive/My Drive/Tic.Toc.Toe.pdf\n"
          ],
          "name": "stdout"
        },
        {
          "output_type": "execute_result",
          "data": {
            "application/vnd.google.colaboratory.intrinsic+json": {
              "type": "string"
            },
            "text/plain": [
              "'File Download Unsuccessful. Saved in Google Drive'"
            ]
          },
          "metadata": {
            "tags": []
          },
          "execution_count": 3
        }
      ]
    }
  ]
}